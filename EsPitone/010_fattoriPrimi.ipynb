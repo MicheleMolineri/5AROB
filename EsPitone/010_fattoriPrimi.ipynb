{
 "cells": [
  {
   "cell_type": "markdown",
   "id": "9102dd94",
   "metadata": {},
   "source": [
    "Trovare i `divisori primi` di un numero dato in input\n"
   ]
  },
  {
   "cell_type": "code",
   "execution_count": 16,
   "id": "125a38d4",
   "metadata": {},
   "outputs": [],
   "source": [
    "def ePrimo(num):\n",
    "    div, p = 2 , True\n",
    "\n",
    "    while(p and div <= int(num**0.5)+1):\n",
    "        if (num%div) == 0:\n",
    "            p = False \n",
    "        div += 1\n",
    "    return  p  "
   ]
  },
  {
   "cell_type": "code",
   "execution_count": 17,
   "id": "7fb9e57e",
   "metadata": {},
   "outputs": [],
   "source": [
    "def scriviFile():\n",
    "    f=open(\"./nPrimi.csv\",\"w\")\n",
    "    for n in range(2,100000) :\n",
    "        if ePrimo(n):\n",
    "            f.write(str(n)+\"\\n\")\n",
    "    f.close()"
   ]
  },
  {
   "cell_type": "code",
   "execution_count": 18,
   "id": "45572e41",
   "metadata": {},
   "outputs": [],
   "source": [
    "def fattori(num):\n",
    "    f=open(\"./nPrimi.csv\",\"r\")\n",
    "    testo = f.readlines()\n",
    "    numPrimi  = [int(n) for n in testo]\n",
    "    f.close()\n",
    "    return  [ n for n in numPrimi if num%n == 0] "
   ]
  },
  {
   "cell_type": "code",
   "execution_count": 22,
   "id": "2b1902de",
   "metadata": {},
   "outputs": [
    {
     "name": "stdout",
     "output_type": "stream",
     "text": [
      "Scritto\n",
      "inserisci un numero : 213\n",
      "[3, 71]\n"
     ]
    }
   ],
   "source": [
    "def main():\n",
    "    print(fattori(int(input(\"inserisci un numero : \"))))\n",
    "\n",
    "#scriviFile()\n",
    "main()\n"
   ]
  },
  {
   "cell_type": "code",
   "execution_count": null,
   "id": "8344f3d3",
   "metadata": {},
   "outputs": [],
   "source": []
  }
 ],
 "metadata": {
  "kernelspec": {
   "display_name": "Python 3 (ipykernel)",
   "language": "python",
   "name": "python3"
  },
  "language_info": {
   "codemirror_mode": {
    "name": "ipython",
    "version": 3
   },
   "file_extension": ".py",
   "mimetype": "text/x-python",
   "name": "python",
   "nbconvert_exporter": "python",
   "pygments_lexer": "ipython3",
   "version": "3.9.12"
  }
 },
 "nbformat": 4,
 "nbformat_minor": 5
}
